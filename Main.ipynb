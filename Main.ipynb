{
 "cells": [
  {
   "cell_type": "markdown",
   "metadata": {},
   "source": [
    "# Tennis Playing Reinforcement Learning Multi-Agent in 3D-Environment"
   ]
  },
  {
   "cell_type": "markdown",
   "metadata": {},
   "source": [
    "The following notebook provides a reinforcement learning multi-agent which is trained to play tennis in an episodic Unity 3D-environment. The multi-agent consists of two agents, each equipped with a racket. The multi-agent is trained such that each agent tries to hit the tennis ball with its racket and then hit the floor on the other side of the net."
   ]
  },
  {
   "cell_type": "markdown",
   "metadata": {},
   "source": [
    "### 1. Setup\n",
    "\n",
    "We begin by importing the Python packages required for the project.\n",
    "\n",
    "Next, we create the 3D-environment containing the tennis court. This environment is based on the Unity engine and is provided by Udacity. The environment contains a brain, which is controlled by the reinforcement learning agent used further below."
   ]
  },
  {
   "cell_type": "code",
   "execution_count": 1,
   "metadata": {},
   "outputs": [
    {
     "name": "stderr",
     "output_type": "stream",
     "text": [
      "INFO:unityagents:\n",
      "'Academy' started successfully!\n",
      "Unity Academy name: Academy\n",
      "        Number of Brains: 1\n",
      "        Number of External Brains : 1\n",
      "        Lesson number : 0\n",
      "        Reset Parameters :\n",
      "\t\t\n",
      "Unity brain name: TennisBrain\n",
      "        Number of Visual Observations (per agent): 0\n",
      "        Vector Observation space type: continuous\n",
      "        Vector Observation space size (per agent): 8\n",
      "        Number of stacked Vector Observation: 3\n",
      "        Vector Action space type: continuous\n",
      "        Vector Action space size (per agent): 2\n",
      "        Vector Action descriptions: , \n"
     ]
    }
   ],
   "source": [
    "import keyboard\n",
    "\n",
    "import matplotlib.pyplot as plt\n",
    "import numpy as np\n",
    "\n",
    "from collections import deque\n",
    "from unityagents import UnityEnvironment\n",
    "\n",
    "environment = UnityEnvironment(\"Tennis_Windows_x86_64\\Tennis.exe\")\n",
    "\n",
    "brain_name = environment.brain_names[0]\n",
    "brain = environment.brains[brain_name]\n",
    "\n",
    "info = environment.reset(train_mode=True)[brain_name]\n",
    "\n",
    "number_agents = len(info.vector_observations)\n",
    "number_sensors = len(info.vector_observations[0])\n",
    "number_motors = brain.vector_action_space_size"
   ]
  },
  {
   "cell_type": "markdown",
   "metadata": {},
   "source": [
    "### 2. Training\n",
    "\n",
    "Now, we come to the training of the reinforcement learning multi-agent. When the next cell is executed, the Unity environment is shown as a small window and the training starts. The progress of the training is shown in form of a continuously updated log message. The training stops when either an averge collective score of 0.5 is reached or the user hits the Escape key. The average collective score is defined as the collective score computed over the most recent 100 episodes. Here, the collective score is the maximum of the individual scores of the two agents, where the individual score of each agent is the non-discounted return, i.e. cumulative reward per episode. When the training is finished, a plot of the collective scores over the episodes is displayed and the neural networks of the reinforcement learning multi-agent are saved.\n",
    "\n",
    "If you have a GPU which requires at least CUDA 9.0, you might encounter a startup-phase taking several minutes for the next cell, because the PyTorch version 0.4.0 required for this project was compiled with CUDA 8.0. Newer versions of PyTorch were not considered here, because this project was created in the context of a Udacity nanodegree program, where the PyTorch version is fixed. So, if the execution freezes, please be patient for a few minutes.\n",
    "\n",
    "The next cell also contains a fast development mode. When the training has stopped, you can simple execute the cell another time and a new multi-agent is trained with the most recent state of the Python packages coded for the multi-agent, i.e. including any code changes taken since the last execution, without having to restart the Python kernel and the Unity environment. This development mode also addresses the slow startup-phase mentioned above.\n",
    "\n",
    "CODE DETAILS:\n",
    "\n",
    "The code in the cell first creates a new multi-agent, which is provided in external Python scripts, and resets the environment. Then, it lets the multi-agent determine an action in the current state. This action causes a change of the environment which is observed and provides a reward. The reward then allows a learning step of the multi-agent. The steps starting with the action determination are then repeated until an episode is finished. Then, the environment is reset and the next episode starts. The training continues over multiple episodes until the stop criterion mentioned earlier is reached."
   ]
  },
  {
   "cell_type": "code",
   "execution_count": 10,
   "metadata": {
    "scrolled": false
   },
   "outputs": [
    {
     "name": "stdout",
     "output_type": "stream",
     "text": [
      "Fast development reload: network\n",
      "Fast development reload: memory\n",
      "Fast development reload: agent\n",
      "Used device: cpu\n",
      "\n",
      "Policy Network - Actor(\n",
      "  (__linear_0): Linear(in_features=24, out_features=64, bias=True)\n",
      "  (__linear_1): Linear(in_features=64, out_features=64, bias=True)\n",
      "  (__linear_2): Linear(in_features=64, out_features=2, bias=True)\n",
      ")\n",
      "\n",
      "Target Policy Network - Target Actor(\n",
      "  (__linear_0): Linear(in_features=24, out_features=64, bias=True)\n",
      "  (__linear_1): Linear(in_features=64, out_features=64, bias=True)\n",
      "  (__linear_2): Linear(in_features=64, out_features=2, bias=True)\n",
      ")\n",
      "\n",
      "Q Network - NonlocalCritic(\n",
      "  (__linear_0): Linear(in_features=52, out_features=64, bias=True)\n",
      "  (__linear_1): Linear(in_features=64, out_features=64, bias=True)\n",
      "  (__linear_2): Linear(in_features=64, out_features=64, bias=True)\n",
      "  (__linear_3): Linear(in_features=64, out_features=1, bias=True)\n",
      ")\n",
      "\n",
      "Target Q Network - Target NonlocalCritic(\n",
      "  (__linear_0): Linear(in_features=52, out_features=64, bias=True)\n",
      "  (__linear_1): Linear(in_features=64, out_features=64, bias=True)\n",
      "  (__linear_2): Linear(in_features=64, out_features=64, bias=True)\n",
      "  (__linear_3): Linear(in_features=64, out_features=1, bias=True)\n",
      ")\n",
      "\n",
      "Used device: cpu\n",
      "\n",
      "Policy Network - Actor(\n",
      "  (__linear_0): Linear(in_features=24, out_features=64, bias=True)\n",
      "  (__linear_1): Linear(in_features=64, out_features=64, bias=True)\n",
      "  (__linear_2): Linear(in_features=64, out_features=2, bias=True)\n",
      ")\n",
      "\n",
      "Target Policy Network - Target Actor(\n",
      "  (__linear_0): Linear(in_features=24, out_features=64, bias=True)\n",
      "  (__linear_1): Linear(in_features=64, out_features=64, bias=True)\n",
      "  (__linear_2): Linear(in_features=64, out_features=2, bias=True)\n",
      ")\n",
      "\n",
      "Q Network - NonlocalCritic(\n",
      "  (__linear_0): Linear(in_features=52, out_features=64, bias=True)\n",
      "  (__linear_1): Linear(in_features=64, out_features=64, bias=True)\n",
      "  (__linear_2): Linear(in_features=64, out_features=64, bias=True)\n",
      "  (__linear_3): Linear(in_features=64, out_features=1, bias=True)\n",
      ")\n",
      "\n",
      "Target Q Network - Target NonlocalCritic(\n",
      "  (__linear_0): Linear(in_features=52, out_features=64, bias=True)\n",
      "  (__linear_1): Linear(in_features=64, out_features=64, bias=True)\n",
      "  (__linear_2): Linear(in_features=64, out_features=64, bias=True)\n",
      "  (__linear_3): Linear(in_features=64, out_features=1, bias=True)\n",
      ")\n",
      "\n",
      "Episode = 5044, Epsilon = 0.2, Individual scores = (1.4, 1.3), Average collective score = 0.502                  \n",
      "Agent saved in (agent_0_actor.pt, agent_0_critic.pt)\n",
      "Agent saved in (agent_1_actor.pt, agent_1_critic.pt)\n"
     ]
    },
    {
     "data": {
      "image/png": "[encoded data removed]",
      "text/plain": [
       "<Figure size 432x288 with 1 Axes>"
      ]
     },
     "metadata": {
      "needs_background": "light"
     },
     "output_type": "display_data"
    }
   ],
   "source": [
    "# The nubmer of episodes used to compute the average score.\n",
    "NUMBER_AVERAGED_EPISODES = 100\n",
    "\n",
    "# The average collective score where the training stops.\n",
    "MAX_AVERAGE_COLLECTIVE_SCORE = 0.5\n",
    "\n",
    "import agent\n",
    "\n",
    "if agent.network.FAST_DEVELOPMENT_MODE:\n",
    "    import importlib\n",
    "\n",
    "    importlib.reload(agent)\n",
    "    print(\"Fast development reload: agent\")\n",
    "\n",
    "from agent import Agent\n",
    "\n",
    "agents = []\n",
    "for index in range(number_agents):\n",
    "    agents.append(Agent(number_agents, number_sensors, number_motors, agents, index))\n",
    "\n",
    "all_collective_scores = []\n",
    "last_collective_scores = deque(maxlen=NUMBER_AVERAGED_EPISODES)\n",
    "all_average_collective_scores = []\n",
    "\n",
    "episode = 0\n",
    "average_collective_score = 0\n",
    "\n",
    "reset = True\n",
    "while True:\n",
    "    if reset:\n",
    "        info = environment.reset(train_mode=True)[brain_name]\n",
    "        observations = info.vector_observations\n",
    "        individual_scores = np.zeros(number_agents)\n",
    "        reset = False\n",
    "\n",
    "    actions = np.array([agents[index](observations[index]) for index in range(number_agents)])\n",
    "    info = environment.step(actions)[brain_name]\n",
    "    next_observations = info.vector_observations\n",
    "    rewards = info.rewards\n",
    "    dones = info.local_done\n",
    "\n",
    "    for agent in agents:\n",
    "        agent.learn(observations, actions, rewards, next_observations, dones)\n",
    "\n",
    "    individual_scores += rewards\n",
    "    observations = next_observations\n",
    "\n",
    "    if True in dones:\n",
    "        episode += 1\n",
    "\n",
    "        collective_score = np.max(individual_scores)\n",
    "\n",
    "        all_collective_scores.append(collective_score)\n",
    "        last_collective_scores.append(collective_score)\n",
    "\n",
    "        average_collective_score = np.mean(last_collective_scores)\n",
    "\n",
    "        all_average_collective_scores.append(average_collective_score)\n",
    "\n",
    "        reset = True\n",
    "\n",
    "    epsilon = agents[0].epsilon\n",
    "    log = f\"\\rEpisode = {episode}, Epsilon = {epsilon:.2g}, Individual scores = ({individual_scores[0]:.2g}, \" \\\n",
    "          f\"{individual_scores[1]:.2g}), Average collective score = {average_collective_score:.3g}\" + 15 * \" \"\n",
    "    print(log, end=\"\", flush=True)\n",
    "\n",
    "    if keyboard.is_pressed(\"esc\") or (average_collective_score >= MAX_AVERAGE_COLLECTIVE_SCORE):\n",
    "        print()\n",
    "        break\n",
    "\n",
    "for agent in agents:\n",
    "    agent.save(\"agent\")\n",
    "\n",
    "plt.plot(all_collective_scores, label=\"Collective\")\n",
    "plt.plot(all_average_collective_scores, label=\"Average collective\")\n",
    "plt.xlabel(\"Episode\")\n",
    "plt.ylabel(\"Score\")\n",
    "plt.legend(loc=\"upper left\")\n",
    "plt.show()"
   ]
  },
  {
   "cell_type": "markdown",
   "metadata": {},
   "source": [
    "### 3. Inference\n",
    "\n",
    "Execute the next cell to let the saved reinforcement learning to be used in inference mode. This mode also provides a larger window for the Unity environment than in training mode. The inference ends when a single episode is done or the user hits the Escape key."
   ]
  },
  {
   "cell_type": "code",
   "execution_count": 4,
   "metadata": {
    "scrolled": false
   },
   "outputs": [
    {
     "name": "stdout",
     "output_type": "stream",
     "text": [
      "Fast development reload: network\n",
      "Fast development reload: memory\n",
      "Fast development reload: agent\n",
      "Used device: cpu\n",
      "\n",
      "Policy Network - Actor(\n",
      "  (__linear_0): Linear(in_features=24, out_features=64, bias=True)\n",
      "  (__linear_1): Linear(in_features=64, out_features=64, bias=True)\n",
      "  (__linear_2): Linear(in_features=64, out_features=2, bias=True)\n",
      ")\n",
      "\n",
      "Target Policy Network - Target Actor(\n",
      "  (__linear_0): Linear(in_features=24, out_features=64, bias=True)\n",
      "  (__linear_1): Linear(in_features=64, out_features=64, bias=True)\n",
      "  (__linear_2): Linear(in_features=64, out_features=2, bias=True)\n",
      ")\n",
      "\n",
      "Q Network - NonlocalCritic(\n",
      "  (__linear_0): Linear(in_features=52, out_features=64, bias=True)\n",
      "  (__linear_1): Linear(in_features=64, out_features=64, bias=True)\n",
      "  (__linear_2): Linear(in_features=64, out_features=64, bias=True)\n",
      "  (__linear_3): Linear(in_features=64, out_features=1, bias=True)\n",
      ")\n",
      "\n",
      "Target Q Network - Target NonlocalCritic(\n",
      "  (__linear_0): Linear(in_features=52, out_features=64, bias=True)\n",
      "  (__linear_1): Linear(in_features=64, out_features=64, bias=True)\n",
      "  (__linear_2): Linear(in_features=64, out_features=64, bias=True)\n",
      "  (__linear_3): Linear(in_features=64, out_features=1, bias=True)\n",
      ")\n",
      "\n",
      "Used device: cpu\n",
      "\n",
      "Policy Network - Actor(\n",
      "  (__linear_0): Linear(in_features=24, out_features=64, bias=True)\n",
      "  (__linear_1): Linear(in_features=64, out_features=64, bias=True)\n",
      "  (__linear_2): Linear(in_features=64, out_features=2, bias=True)\n",
      ")\n",
      "\n",
      "Target Policy Network - Target Actor(\n",
      "  (__linear_0): Linear(in_features=24, out_features=64, bias=True)\n",
      "  (__linear_1): Linear(in_features=64, out_features=64, bias=True)\n",
      "  (__linear_2): Linear(in_features=64, out_features=2, bias=True)\n",
      ")\n",
      "\n",
      "Q Network - NonlocalCritic(\n",
      "  (__linear_0): Linear(in_features=52, out_features=64, bias=True)\n",
      "  (__linear_1): Linear(in_features=64, out_features=64, bias=True)\n",
      "  (__linear_2): Linear(in_features=64, out_features=64, bias=True)\n",
      "  (__linear_3): Linear(in_features=64, out_features=1, bias=True)\n",
      ")\n",
      "\n",
      "Target Q Network - Target NonlocalCritic(\n",
      "  (__linear_0): Linear(in_features=52, out_features=64, bias=True)\n",
      "  (__linear_1): Linear(in_features=64, out_features=64, bias=True)\n",
      "  (__linear_2): Linear(in_features=64, out_features=64, bias=True)\n",
      "  (__linear_3): Linear(in_features=64, out_features=1, bias=True)\n",
      ")\n",
      "\n",
      "Agent loaded from (agent_0_actor.pt, agent_0_critic.pt)\n",
      "Agent loaded from (agent_1_actor.pt, agent_1_critic.pt)\n",
      "Collective score = 2.600000038743019\n"
     ]
    }
   ],
   "source": [
    "import agent\n",
    "\n",
    "if agent.network.FAST_DEVELOPMENT_MODE:\n",
    "    import importlib\n",
    "\n",
    "    importlib.reload(agent)\n",
    "    print(\"Fast development reload: agent\")\n",
    "\n",
    "from agent import Agent\n",
    "\n",
    "agents = []\n",
    "for index in range(number_agents):\n",
    "    agents.append(Agent(number_agents, number_sensors, number_motors, agents, index))\n",
    "\n",
    "for agent in agents:\n",
    "    agent.load(\"agent\")\n",
    "\n",
    "info = environment.reset(train_mode=False)[brain_name]\n",
    "\n",
    "individual_scores = np.zeros(number_agents)\n",
    "\n",
    "while True:\n",
    "    observations = info.vector_observations\n",
    "    actions = np.array([agents[index](observations[index]) for index in range(number_agents)])\n",
    "    info = environment.step(actions)[brain_name]\n",
    "    dones = info.local_done\n",
    "\n",
    "    individual_scores += info.rewards\n",
    "\n",
    "    if keyboard.is_pressed(\"esc\") or (True in dones):\n",
    "        break\n",
    "\n",
    "collective_score = np.max(individual_scores)\n",
    "print(\"Collective score =\", collective_score)"
   ]
  },
  {
   "cell_type": "markdown",
   "metadata": {},
   "source": [
    "### 4. Teardown\n",
    "\n",
    "When you are done with training and inference, you can close the Unity environment with the following cell."
   ]
  },
  {
   "cell_type": "code",
   "execution_count": 5,
   "metadata": {},
   "outputs": [],
   "source": [
    "environment.close()"
   ]
  },
  {
   "cell_type": "markdown",
   "metadata": {},
   "source": [
    " "
   ]
  }
 ],
 "metadata": {
  "kernelspec": {
   "display_name": "drlnd",
   "language": "python",
   "name": "drlnd"
  },
  "language_info": {
   "codemirror_mode": {
    "name": "ipython",
    "version": 3
   },
   "file_extension": ".py",
   "mimetype": "text/x-python",
   "name": "python",
   "nbconvert_exporter": "python",
   "pygments_lexer": "ipython3",
   "version": "3.6.13"
  }
 },
 "nbformat": 4,
 "nbformat_minor": 2
}
